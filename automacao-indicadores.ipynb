{
 "cells": [
  {
   "cell_type": "markdown",
   "metadata": {},
   "source": [
    "##### AUTOMATIZAR O ENVIO DE INDICADORES PARA A DIRETORIA DA EMPRESA\n",
    "\n",
    "##### instalação da library pyautogui:\n",
    "#### pip install pyautogui\n",
    "\n",
    "##### instalação da library pandas:\n",
    "#### pip install pandas\n",
    "\n",
    "##### instalação da library openpyxl:\n",
    "#### pip install openpyxl"
   ]
  },
  {
   "cell_type": "code",
   "execution_count": 12,
   "metadata": {},
   "outputs": [],
   "source": [
    "import pyautogui\n",
    "import pyperclip\n",
    "import time\n",
    "import pandas as pd"
   ]
  },
  {
   "cell_type": "markdown",
   "metadata": {},
   "source": [
    "##### Passo 01 - Entrar no sistema da empresa (no nosso caso, link do drive)\n",
    "#### Partindo da premissa que o navegador esteja fechado, ele abre o chrome, digita o link do drive/sistema, loga"
   ]
  },
  {
   "cell_type": "code",
   "execution_count": null,
   "metadata": {},
   "outputs": [],
   "source": [
    "pyautogui.PAUSE = 1 \n",
    "pyautogui.press(\"win\")\n",
    "pyautogui.write(\"chrome\")\n",
    "pyautogui.press(\"enter\")\n",
    "pyperclip.copy(\"https://drive.google.com/drive/folders/149xknr9JvrlEnhNWO49zPcw0PW5icxga\")\n",
    "pyautogui.hotkey(\"ctrl\", \"v\")\n",
    "pyautogui.press(\"enter\")\n",
    "time.sleep(3)"
   ]
  },
  {
   "cell_type": "markdown",
   "metadata": {},
   "source": [
    "##### Passo 02 - Navegar no sistema e encontrar nossa base de dados (pasta exportar)\n",
    "#### os valores de x e y foram gerados pegando a posição da tela (a resolução/coordenadas pode variar entre computadores)\n",
    "#### dois cliques para abrir a pasta exportar"
   ]
  },
  {
   "cell_type": "code",
   "execution_count": 13,
   "metadata": {},
   "outputs": [],
   "source": [
    "pyautogui.click(x=386,y=273, clicks=2)\n",
    "time.sleep(2)"
   ]
  },
  {
   "cell_type": "markdown",
   "metadata": {},
   "source": [
    "##### Passo 03 - Fazer o download da base de dados\n",
    "#### clica no arquivo, clica nos três pontos, clica em fazer download"
   ]
  },
  {
   "cell_type": "code",
   "execution_count": 14,
   "metadata": {},
   "outputs": [],
   "source": [
    "pyautogui.click(x=386,y=273)\n",
    "pyautogui.click(x=1157,y=162)\n",
    "pyautogui.click(x=983,y=555)\n",
    "time.sleep(3)"
   ]
  },
  {
   "cell_type": "markdown",
   "metadata": {},
   "source": [
    "##### Passo 04 - Manipular os dados e gerar o faturamento total e a quantidade de itens vendidas no respectivo dia/operacao\n",
    "\n",
    "#### 4.1 manipulação dos dados da tabela do excel com a library pandas que tem o alias pd\n",
    "#### a variavel tabela recebe os dados da planilha que fizemos download\n",
    "#### a letra r é utilizada para que as barras não sejam interpretadas como um comando da linguagem\n",
    "#### substituir NomeUsuario pelo nome de usuario do seu computador\n",
    "#### substituir PlanilhaDeDados.xlsx pelo nome do arquivo que deseja manipular\n",
    "#### ou então substituir o caminho inteiro do arquivo, colocando a localização exata de onde o seu documento estiver"
   ]
  },
  {
   "cell_type": "code",
   "execution_count": null,
   "metadata": {},
   "outputs": [],
   "source": [
    "tabela = pd.read_excel(r\"C:\\Users\\NomeUsuario\\Downloads\\PlanilhaDeDados.xlsx\")"
   ]
  },
  {
   "cell_type": "markdown",
   "metadata": {},
   "source": [
    "#### 4.2 para visualizar a tabela pode ser executado o seguinte comando:\n",
    "## display(tabela)"
   ]
  },
  {
   "cell_type": "code",
   "execution_count": 18,
   "metadata": {},
   "outputs": [],
   "source": [
    "quantidade = tabela[\"Quantidade\"].sum()\n",
    "faturamento = tabela[\"Valor Final\"].sum()"
   ]
  },
  {
   "cell_type": "markdown",
   "metadata": {},
   "source": [
    "##### Passo 05 - Entrar no e-mail\n",
    "\n",
    "#### Partindo da premissa que o chrome já está aberto\n",
    "#### Ctrl + T -> abre uma nova aba\n",
    "#### Digita o link para abrir o e-mail (contando também que o mesmo esteja logado)\n",
    "#### Acessa o e-mail"
   ]
  },
  {
   "cell_type": "code",
   "execution_count": 19,
   "metadata": {},
   "outputs": [],
   "source": [
    "pyautogui.hotkey(\"ctrl\",\"t\")\n",
    "pyperclip.copy(\"https://mail.google.com/mail/u/0/#inbox\")\n",
    "pyautogui.hotkey(\"ctrl\",\"v\")\n",
    "pyautogui.press(\"enter\")\n",
    "time.sleep(4)"
   ]
  },
  {
   "cell_type": "markdown",
   "metadata": {},
   "source": [
    "##### Passo 06 - Mandar um e-mail para a diretoria com os indicadores\n",
    "\n",
    "#### 6.1 clicar no botao + para enviar um novo e-mail"
   ]
  },
  {
   "cell_type": "code",
   "execution_count": 20,
   "metadata": {},
   "outputs": [],
   "source": [
    "pyautogui.click(x=29,y=168)"
   ]
  },
  {
   "cell_type": "markdown",
   "metadata": {},
   "source": [
    "#### 6.2 escrever o destinatário\n",
    "#### substituir seuemail@gmail.com pelo destinatário que desejar"
   ]
  },
  {
   "cell_type": "code",
   "execution_count": null,
   "metadata": {},
   "outputs": [],
   "source": [
    "time.sleep(2)\n",
    "pyautogui.write(\"seuemail@gmail.com\")\n",
    "pyautogui.press(\"tab\")\n",
    "pyautogui.press(\"tab\")"
   ]
  },
  {
   "cell_type": "markdown",
   "metadata": {},
   "source": [
    "#### 6.3 escrever o assunto do E-mail\n",
    "#### substituir \"Relatório de Vendas\" pelo assunto que desejar"
   ]
  },
  {
   "cell_type": "code",
   "execution_count": null,
   "metadata": {},
   "outputs": [],
   "source": [
    "pyperclip.copy(\"Relatório de Vendas\")\n",
    "pyautogui.hotkey(\"ctrl\",\"v\")\n",
    "pyautogui.press(\"tab\")"
   ]
  },
  {
   "cell_type": "markdown",
   "metadata": {},
   "source": [
    "#### 6.4 escrever o corpo do e-mail (para escrever mais de uma linha é necessário 3 aspas para iniciar/fechar o trecho)\n",
    "#### substituir SeuNomeAqui pelo seu nome\n",
    "#### a letra f serve para reconhecer/formatar as variaveis faturamento/quantidade"
   ]
  },
  {
   "cell_type": "code",
   "execution_count": null,
   "metadata": {},
   "outputs": [],
   "source": [
    "texto = f\"\"\" \n",
    "\tPrezados, bom dia\n",
    "\n",
    "\to faturamento de ontem foi de R$  {faturamento:,.2f}\n",
    "\ta quantidade de produtos foi de {quantidade:,}\n",
    "\n",
    "\tAbraços, \n",
    "\tSeuNomeAqui\n",
    "\"\"\"\n",
    "pyperclip.copy(texto)\n",
    "pyautogui.hotkey(\"ctrl\",\"v\")"
   ]
  },
  {
   "cell_type": "markdown",
   "metadata": {},
   "source": [
    "#### 6.5 enviar o e-mail\n",
    "#### o comando Ctrl+Enter é um atalho do gmail, mas poderia ser enviado pela posição da tela e duplo clique."
   ]
  },
  {
   "cell_type": "code",
   "execution_count": null,
   "metadata": {},
   "outputs": [],
   "source": [
    "pyautogui.hotkey(\"ctrl\",\"enter\")"
   ]
  },
  {
   "cell_type": "markdown",
   "metadata": {},
   "source": [
    "##### PRONTO! O Python acessou o sistema, baixou o arquivo, realizou a análise de dados, \n",
    "##### entrou no e-mail, redigiu à diretoria e enviou o mesmo com os dados atualizados."
   ]
  }
 ],
 "metadata": {
  "kernelspec": {
   "display_name": "Python 3.10.5 64-bit",
   "language": "python",
   "name": "python3"
  },
  "language_info": {
   "codemirror_mode": {
    "name": "ipython",
    "version": 3
   },
   "file_extension": ".py",
   "mimetype": "text/x-python",
   "name": "python",
   "nbconvert_exporter": "python",
   "pygments_lexer": "ipython3",
   "version": "3.10.5"
  },
  "orig_nbformat": 4,
  "vscode": {
   "interpreter": {
    "hash": "21ec911c1d5ad4c40675a92a19afd36b5dad8a91308a3d609b0e4b500cfc45ff"
   }
  }
 },
 "nbformat": 4,
 "nbformat_minor": 2
}
